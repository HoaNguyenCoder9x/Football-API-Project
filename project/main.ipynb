{
 "cells": [
  {
   "cell_type": "code",
   "execution_count": null,
   "metadata": {},
   "outputs": [],
   "source": [
    "# Extract data from API and return json\n",
    "# Output data to csv\n",
    "# Read json , do some transform and load to database ( mysql )\n",
    "# build data model -> view ( DBT )"
   ]
  },
  {
   "cell_type": "code",
   "execution_count": 1,
   "metadata": {},
   "outputs": [],
   "source": [
    "import pandas as pd\n",
    "import requests\n",
    "import time\n",
    "import json\n"
   ]
  },
  {
   "cell_type": "code",
   "execution_count": 2,
   "metadata": {},
   "outputs": [],
   "source": [
    "url = \"https://api-football-v1.p.rapidapi.com/v3/\"\n",
    "end_point = {\n",
    "     'players': {'url': 'players', 'page': 42, 'params': {'league':'39' ,'season':'2024','page': 42} }\n",
    "    ,'leagues': {'url': 'leagues'} # done\n",
    "    ,'teams': {'url': 'teams', 'params': {'league':39,'season':'2024'} } #done\n",
    "    ,'coachs': {'url': 'coachs', 'params' : {'team': 33}} # done\n",
    "\n",
    "}    \n",
    "\n",
    "\n",
    "with open('key.json', 'r') as file:\n",
    "    data = json.load(file)\n",
    "\n",
    "\n",
    "duckdb_connection = data['duckdb_connection_path'] # CHANGE YOUR DATABASE CONNECTION HERE\n",
    "'''\n",
    "Why duckdb Database:\n",
    "    1. Duckdb is OLAP database , columnar store -> fast retrieve & aggregate data\n",
    "    2. Easy setup\n",
    "    3. Strong in support parsing STRUCT | OBJECT dtype format to flatten table \n",
    "    4. Common use in transform layer before write to target destination\n",
    "    5. SQL friendlier\n",
    "'''\n",
    "\n",
    "\n",
    "headers = data['headers'] # CHANGE YOUR API KEY HERE\n",
    "\n"
   ]
  },
  {
   "cell_type": "code",
   "execution_count": 23,
   "metadata": {},
   "outputs": [],
   "source": [
    "def extract(data,ip_url,ip_end_point, ip_header,ip_page = 1):\n",
    "\t\n",
    "\turl = ip_url + ip_end_point[data]['url'] \n",
    "\tquerystring = ip_end_point[data].get('params')\n",
    "\tpage = ip_end_point[data].get('page')\n",
    "\n",
    "\tif page is None:\n",
    "\t\tpage = ip_page\n",
    "\t\t\n",
    "\tif querystring is None:\n",
    "\t\tquerystring = {}\n",
    "\n",
    "\traw_data = []\n",
    "\tfor i in range(1,page + 1):\n",
    "\t\tif data == 'players':\n",
    "\t\t\tquerystring = {'league':'39' ,'season':'2024','page': i}\n",
    "\t\t\tresponse = requests.get(url, headers=ip_header , params=querystring)  #{'league':'39' ,'season':'2024','page': 42}\n",
    "\t\telse:\n",
    "\t\t\tresponse = requests.get(url, headers=ip_header , params=querystring)  \n",
    "\t\traw = response.json()\n",
    "\t\traw_data.append(raw)\n",
    "\t\tprint(i)\n",
    "\t\ttime.sleep(5) # add sleep between each call \n",
    "\treturn raw_data"
   ]
  },
  {
   "cell_type": "code",
   "execution_count": 4,
   "metadata": {},
   "outputs": [
    {
     "name": "stdout",
     "output_type": "stream",
     "text": [
      "1\n"
     ]
    }
   ],
   "source": [
    "league_data = extract('leagues'\n",
    "                      ,ip_url=url\n",
    "                      ,ip_end_point=end_point\n",
    "                      ,ip_header=headers )\n"
   ]
  },
  {
   "cell_type": "code",
   "execution_count": 5,
   "metadata": {},
   "outputs": [
    {
     "name": "stdout",
     "output_type": "stream",
     "text": [
      "1\n"
     ]
    }
   ],
   "source": [
    "teams_data = extract('teams'\n",
    "                      ,ip_url=url\n",
    "                      ,ip_end_point=end_point\n",
    "                      ,ip_header=headers )\n"
   ]
  },
  {
   "cell_type": "code",
   "execution_count": 8,
   "metadata": {},
   "outputs": [
    {
     "name": "stdout",
     "output_type": "stream",
     "text": [
      "1\n"
     ]
    }
   ],
   "source": [
    "coachs_data = extract('coachs'\n",
    "                      ,ip_url=url\n",
    "                      ,ip_end_point=end_point\n",
    "                      ,ip_header=headers )\n"
   ]
  },
  {
   "cell_type": "code",
   "execution_count": 24,
   "metadata": {},
   "outputs": [
    {
     "name": "stdout",
     "output_type": "stream",
     "text": [
      "1\n",
      "2\n",
      "3\n",
      "4\n",
      "5\n",
      "6\n",
      "7\n",
      "8\n",
      "9\n",
      "10\n",
      "11\n",
      "12\n",
      "13\n",
      "14\n",
      "15\n",
      "16\n",
      "17\n",
      "18\n",
      "19\n",
      "20\n",
      "21\n",
      "22\n",
      "23\n",
      "24\n",
      "25\n",
      "26\n",
      "27\n",
      "28\n",
      "29\n",
      "30\n",
      "31\n",
      "32\n",
      "33\n",
      "34\n",
      "35\n",
      "36\n",
      "37\n",
      "38\n",
      "39\n",
      "40\n",
      "41\n",
      "42\n"
     ]
    }
   ],
   "source": [
    "players_data = extract('players'\n",
    "                      ,ip_url=url\n",
    "                      ,ip_end_point=end_point\n",
    "                      ,ip_header=headers )\n"
   ]
  },
  {
   "cell_type": "code",
   "execution_count": 33,
   "metadata": {},
   "outputs": [],
   "source": [
    "import duckdb\n",
    "\n",
    "def transform(data, table_name):\n",
    "    if table_name == 'players_tbl':\n",
    "        df = pd.DataFrame(data)\n",
    "    else:\n",
    "       df = pd.DataFrame(data[0]['response'])\n",
    "    # Load to DuckDB\n",
    "    with duckdb.connect(duckdb_connection) as conn:\n",
    "        conn.sql(f'drop table if exists  {table_name};')\n",
    "        conn.sql(f'create table {table_name} as select * from df ;')\n",
    "        # conn.sql('show tables;')\n",
    "\n",
    "\n",
    "    print('Sucess load to duckdb')\n"
   ]
  },
  {
   "cell_type": "code",
   "execution_count": 12,
   "metadata": {},
   "outputs": [
    {
     "name": "stdout",
     "output_type": "stream",
     "text": [
      "Sucess load to duckdb\n",
      "None\n"
     ]
    }
   ],
   "source": [
    "transform(league_data,table_name='league_tbl')\n",
    "\n",
    "q = '''\n",
    "select  \n",
    "-- id::varchar as league_id\n",
    "--,name as league_name\n",
    "--,type as league_type\n",
    "--,logo as league_logo\n",
    "--,name_1 as country_name\n",
    "--,code as country_code\n",
    "--,flag as country_flag\n",
    "--,year as season_year\n",
    "--,\"start\" as season_start\n",
    "--,\"end\" as season_end \n",
    "--, \n",
    "* EXCLUDE (events, lineups, statistics_fixtures, statistics_players, standings, players, top_scorers, top_assists, top_cards, injuries, predictions,odds)\n",
    "\n",
    "\n",
    "from \n",
    "(\n",
    "select \n",
    " UNNEST (league, RECURSIVE:= true )\n",
    ",UNNEST (country, RECURSIVE:= true)\n",
    ",UNNEST (seasons, RECURSIVE:= true), generate_subscripts(seasons , 1) AS index\n",
    " \n",
    "from sampledb.main.league_tbl \n",
    "\n",
    ") a\n",
    "'''\n",
    "with duckdb.connect(duckdb_connection) as conn:\n",
    "    conn.sql(q).to_csv('data/league_tbl.csv')\n",
    "    print('write to league_tbl.csv DONE')\n",
    "    \n"
   ]
  },
  {
   "cell_type": "code",
   "execution_count": 13,
   "metadata": {},
   "outputs": [
    {
     "name": "stdout",
     "output_type": "stream",
     "text": [
      "Sucess load to duckdb\n",
      "None\n"
     ]
    }
   ],
   "source": [
    "transform(teams_data,'team_tbl')\n",
    "q = '''\n",
    "select * \n",
    "from \n",
    "(\n",
    "\n",
    "select \n",
    "\t   UNNEST (team , RECURSIVE:= true )\n",
    "\t , UNNEST (venue , RECURSIVE:= true )\n",
    "\t \n",
    "from sampledb.main.team_tbl\n",
    ") a\n",
    "'''\n",
    "with duckdb.connect(duckdb_connection) as conn:\n",
    "    conn.sql(q).to_csv('data/team_tbl.csv')\n",
    "    print('write to team_tbl.csv DONE')\n",
    "    \n"
   ]
  },
  {
   "cell_type": "code",
   "execution_count": 14,
   "metadata": {},
   "outputs": [
    {
     "name": "stdout",
     "output_type": "stream",
     "text": [
      "Sucess load to duckdb\n",
      "None\n"
     ]
    }
   ],
   "source": [
    "transform(coachs_data,table_name='coach_tbl')\n",
    "\n",
    "q = '''\n",
    "select \n",
    "\tid\n",
    "\t,name\n",
    "\t,firstname\n",
    "\t,lastname \n",
    "\t,age\n",
    "\t,UNNEST (birth , RECURSIVE:= true )\n",
    "\t,nationality \n",
    "\t,height \n",
    "\t,weight \n",
    "\t,photo \n",
    "\t,UNNEST (team , RECURSIVE:= true )\n",
    "\t,UNNEST (career , RECURSIVE:= true )\n",
    "\t\n",
    "\n",
    "from sampledb.main.coach_tbl\n",
    "'''\n",
    "with duckdb.connect(duckdb_connection) as conn:\n",
    "    conn.sql(q).to_csv('data/coach_tbl.csv')\n",
    "    print('write to coach_tbl.csv DONE')\n"
   ]
  },
  {
   "cell_type": "code",
   "execution_count": 36,
   "metadata": {},
   "outputs": [
    {
     "name": "stdout",
     "output_type": "stream",
     "text": [
      "Sucess load to duckdb\n",
      "None\n"
     ]
    }
   ],
   "source": [
    "transform(players_data,table_name='players_tbl')\n",
    "\n",
    "q = '''\n",
    "\n",
    "SELECT *   EXCLUDE (statistics)\n",
    "from\n",
    "(\n",
    "select \n",
    "  UNNEST (paging , RECURSIVE:= true  )  \n",
    ", UNNEST (response , RECURSIVE:= true ) \n",
    "\n",
    "from sampledb.main.players_tbl\n",
    ") a\n",
    "\n",
    "'''\n",
    "with duckdb.connect(duckdb_connection) as conn:\n",
    "    conn.sql(q).to_csv('data/players_tbl.csv')\n",
    "    print('write to players_tbl.csv DONE')\n"
   ]
  }
 ],
 "metadata": {
  "kernelspec": {
   "display_name": "api_venv",
   "language": "python",
   "name": "python3"
  },
  "language_info": {
   "codemirror_mode": {
    "name": "ipython",
    "version": 3
   },
   "file_extension": ".py",
   "mimetype": "text/x-python",
   "name": "python",
   "nbconvert_exporter": "python",
   "pygments_lexer": "ipython3",
   "version": "3.10.12"
  }
 },
 "nbformat": 4,
 "nbformat_minor": 2
}
